{
 "cells": [
  {
   "cell_type": "code",
   "execution_count": 1,
   "id": "fbe14db3",
   "metadata": {},
   "outputs": [],
   "source": [
    "import pandas as pd\n",
    "from sklearn.preprocessing import StandardScaler\n",
    "from sklearn.decomposition import PCA\n",
    "from sklearn.manifold import TSNE\n",
    "import matplotlib.pyplot as plt\n",
    "from sklearn.cluster import KMeans"
   ]
  },
  {
   "cell_type": "code",
   "execution_count": 2,
   "id": "fb2cf4bb",
   "metadata": {},
   "outputs": [
    {
     "data": {
      "text/html": [
       "<div>\n",
       "<style scoped>\n",
       "    .dataframe tbody tr th:only-of-type {\n",
       "        vertical-align: middle;\n",
       "    }\n",
       "\n",
       "    .dataframe tbody tr th {\n",
       "        vertical-align: top;\n",
       "    }\n",
       "\n",
       "    .dataframe thead th {\n",
       "        text-align: right;\n",
       "    }\n",
       "</style>\n",
       "<table border=\"1\" class=\"dataframe\">\n",
       "  <thead>\n",
       "    <tr style=\"text-align: right;\">\n",
       "      <th></th>\n",
       "      <th>Unnamed: 0</th>\n",
       "      <th>CoinName</th>\n",
       "      <th>Algorithm</th>\n",
       "      <th>IsTrading</th>\n",
       "      <th>ProofType</th>\n",
       "      <th>TotalCoinsMined</th>\n",
       "      <th>TotalCoinSupply</th>\n",
       "    </tr>\n",
       "  </thead>\n",
       "  <tbody>\n",
       "    <tr>\n",
       "      <th>0</th>\n",
       "      <td>42</td>\n",
       "      <td>42 Coin</td>\n",
       "      <td>Scrypt</td>\n",
       "      <td>True</td>\n",
       "      <td>PoW/PoS</td>\n",
       "      <td>4.199995e+01</td>\n",
       "      <td>42</td>\n",
       "    </tr>\n",
       "    <tr>\n",
       "      <th>1</th>\n",
       "      <td>365</td>\n",
       "      <td>365Coin</td>\n",
       "      <td>X11</td>\n",
       "      <td>True</td>\n",
       "      <td>PoW/PoS</td>\n",
       "      <td>NaN</td>\n",
       "      <td>2300000000</td>\n",
       "    </tr>\n",
       "    <tr>\n",
       "      <th>2</th>\n",
       "      <td>404</td>\n",
       "      <td>404Coin</td>\n",
       "      <td>Scrypt</td>\n",
       "      <td>True</td>\n",
       "      <td>PoW/PoS</td>\n",
       "      <td>1.055185e+09</td>\n",
       "      <td>532000000</td>\n",
       "    </tr>\n",
       "    <tr>\n",
       "      <th>3</th>\n",
       "      <td>611</td>\n",
       "      <td>SixEleven</td>\n",
       "      <td>SHA-256</td>\n",
       "      <td>True</td>\n",
       "      <td>PoW</td>\n",
       "      <td>NaN</td>\n",
       "      <td>611000</td>\n",
       "    </tr>\n",
       "    <tr>\n",
       "      <th>4</th>\n",
       "      <td>808</td>\n",
       "      <td>808</td>\n",
       "      <td>SHA-256</td>\n",
       "      <td>True</td>\n",
       "      <td>PoW/PoS</td>\n",
       "      <td>0.000000e+00</td>\n",
       "      <td>0</td>\n",
       "    </tr>\n",
       "  </tbody>\n",
       "</table>\n",
       "</div>"
      ],
      "text/plain": [
       "  Unnamed: 0   CoinName Algorithm  IsTrading ProofType  TotalCoinsMined  \\\n",
       "0         42    42 Coin    Scrypt       True   PoW/PoS     4.199995e+01   \n",
       "1        365    365Coin       X11       True   PoW/PoS              NaN   \n",
       "2        404    404Coin    Scrypt       True   PoW/PoS     1.055185e+09   \n",
       "3        611  SixEleven   SHA-256       True       PoW              NaN   \n",
       "4        808        808   SHA-256       True   PoW/PoS     0.000000e+00   \n",
       "\n",
       "  TotalCoinSupply  \n",
       "0              42  \n",
       "1      2300000000  \n",
       "2       532000000  \n",
       "3          611000  \n",
       "4               0  "
      ]
     },
     "execution_count": 2,
     "metadata": {},
     "output_type": "execute_result"
    }
   ],
   "source": [
    "#Reading csv file\n",
    "df = pd.read_csv(\"Resources/crypto_data.csv\")\n",
    "df.head()"
   ]
  },
  {
   "cell_type": "code",
   "execution_count": 3,
   "id": "cc2bcf24",
   "metadata": {},
   "outputs": [
    {
     "data": {
      "text/plain": [
       "(1252, 7)"
      ]
     },
     "execution_count": 3,
     "metadata": {},
     "output_type": "execute_result"
    }
   ],
   "source": [
    "#Checking number of rows and columns before the preprocessing\n",
    "df.shape"
   ]
  },
  {
   "cell_type": "markdown",
   "id": "ac673457",
   "metadata": {},
   "source": [
    "<h1>Data Preparation</h1>"
   ]
  },
  {
   "cell_type": "code",
   "execution_count": 4,
   "id": "2df1987d",
   "metadata": {},
   "outputs": [
    {
     "data": {
      "text/plain": [
       "(1144, 6)"
      ]
     },
     "execution_count": 4,
     "metadata": {},
     "output_type": "execute_result"
    }
   ],
   "source": [
    "#Selecting only trading cryptocurrencies\n",
    "trading = df.loc[df['IsTrading'] == True]\n",
    "#Dropping IsTrading column\n",
    "trading = trading.drop(columns='IsTrading')\n",
    "trading.shape"
   ]
  },
  {
   "cell_type": "code",
   "execution_count": 6,
   "id": "c6f9f80e",
   "metadata": {},
   "outputs": [
    {
     "data": {
      "text/plain": [
       "(685, 6)"
      ]
     },
     "execution_count": 6,
     "metadata": {},
     "output_type": "execute_result"
    }
   ],
   "source": [
    "#Removing all rows that have at least one null value\n",
    "trading = trading.dropna()\n",
    "trading.shape"
   ]
  },
  {
   "cell_type": "code",
   "execution_count": 7,
   "id": "ce8668fb",
   "metadata": {},
   "outputs": [
    {
     "data": {
      "text/plain": [
       "(532, 6)"
      ]
     },
     "execution_count": 7,
     "metadata": {},
     "output_type": "execute_result"
    }
   ],
   "source": [
    "#Filtering for cryptocurrencies that have been mined\n",
    "mined = trading.loc[df['TotalCoinsMined'] > 0]\n",
    "mined.shape"
   ]
  },
  {
   "cell_type": "code",
   "execution_count": 8,
   "id": "7923f2cf",
   "metadata": {},
   "outputs": [
    {
     "data": {
      "text/html": [
       "<div>\n",
       "<style scoped>\n",
       "    .dataframe tbody tr th:only-of-type {\n",
       "        vertical-align: middle;\n",
       "    }\n",
       "\n",
       "    .dataframe tbody tr th {\n",
       "        vertical-align: top;\n",
       "    }\n",
       "\n",
       "    .dataframe thead th {\n",
       "        text-align: right;\n",
       "    }\n",
       "</style>\n",
       "<table border=\"1\" class=\"dataframe\">\n",
       "  <thead>\n",
       "    <tr style=\"text-align: right;\">\n",
       "      <th></th>\n",
       "      <th>Algorithm</th>\n",
       "      <th>ProofType</th>\n",
       "      <th>TotalCoinsMined</th>\n",
       "      <th>TotalCoinSupply</th>\n",
       "    </tr>\n",
       "  </thead>\n",
       "  <tbody>\n",
       "    <tr>\n",
       "      <th>0</th>\n",
       "      <td>Scrypt</td>\n",
       "      <td>PoW/PoS</td>\n",
       "      <td>4.199995e+01</td>\n",
       "      <td>42</td>\n",
       "    </tr>\n",
       "    <tr>\n",
       "      <th>2</th>\n",
       "      <td>Scrypt</td>\n",
       "      <td>PoW/PoS</td>\n",
       "      <td>1.055185e+09</td>\n",
       "      <td>532000000</td>\n",
       "    </tr>\n",
       "    <tr>\n",
       "      <th>5</th>\n",
       "      <td>X13</td>\n",
       "      <td>PoW/PoS</td>\n",
       "      <td>2.927942e+10</td>\n",
       "      <td>314159265359</td>\n",
       "    </tr>\n",
       "    <tr>\n",
       "      <th>7</th>\n",
       "      <td>SHA-256</td>\n",
       "      <td>PoW</td>\n",
       "      <td>1.792718e+07</td>\n",
       "      <td>21000000</td>\n",
       "    </tr>\n",
       "    <tr>\n",
       "      <th>8</th>\n",
       "      <td>Ethash</td>\n",
       "      <td>PoW</td>\n",
       "      <td>1.076842e+08</td>\n",
       "      <td>0</td>\n",
       "    </tr>\n",
       "  </tbody>\n",
       "</table>\n",
       "</div>"
      ],
      "text/plain": [
       "  Algorithm ProofType  TotalCoinsMined TotalCoinSupply\n",
       "0    Scrypt   PoW/PoS     4.199995e+01              42\n",
       "2    Scrypt   PoW/PoS     1.055185e+09       532000000\n",
       "5       X13   PoW/PoS     2.927942e+10    314159265359\n",
       "7   SHA-256       PoW     1.792718e+07        21000000\n",
       "8    Ethash       PoW     1.076842e+08               0"
      ]
     },
     "execution_count": 8,
     "metadata": {},
     "output_type": "execute_result"
    }
   ],
   "source": [
    "#deleting the CoinName and Unamed: 0 columnds from the original dataframe.\n",
    "new_crypto_df = mined.drop(columns=['CoinName', 'Unnamed: 0'])\n",
    "new_crypto_df.head()"
   ]
  },
  {
   "cell_type": "code",
   "execution_count": 9,
   "id": "1fccf5ab",
   "metadata": {},
   "outputs": [
    {
     "data": {
      "text/plain": [
       "(532, 4)"
      ]
     },
     "execution_count": 9,
     "metadata": {},
     "output_type": "execute_result"
    }
   ],
   "source": [
    "#Checking the numner of rows and columns after data cleaning\n",
    "new_crypto_df.shape"
   ]
  },
  {
   "cell_type": "code",
   "execution_count": 10,
   "id": "26c785be",
   "metadata": {},
   "outputs": [
    {
     "data": {
      "text/plain": [
       "Algorithm           object\n",
       "ProofType           object\n",
       "TotalCoinsMined    float64\n",
       "TotalCoinSupply     object\n",
       "dtype: object"
      ]
     },
     "execution_count": 10,
     "metadata": {},
     "output_type": "execute_result"
    }
   ],
   "source": [
    "#Checking that each column holds a correct data type\n",
    "new_crypto_df.dtypes"
   ]
  },
  {
   "cell_type": "code",
   "execution_count": 11,
   "id": "4defed4b",
   "metadata": {},
   "outputs": [],
   "source": [
    "#Changing TotalCoinSupply columns type into float\n",
    "new_crypto_df.TotalCoinSupply = new_crypto_df.TotalCoinSupply.astype(float)"
   ]
  },
  {
   "cell_type": "markdown",
   "id": "88e67021",
   "metadata": {},
   "source": [
    "<h3>One-Hot-Encoding</h3>"
   ]
  },
  {
   "cell_type": "code",
   "execution_count": 12,
   "id": "70992dd6",
   "metadata": {},
   "outputs": [
    {
     "data": {
      "text/html": [
       "<div>\n",
       "<style scoped>\n",
       "    .dataframe tbody tr th:only-of-type {\n",
       "        vertical-align: middle;\n",
       "    }\n",
       "\n",
       "    .dataframe tbody tr th {\n",
       "        vertical-align: top;\n",
       "    }\n",
       "\n",
       "    .dataframe thead th {\n",
       "        text-align: right;\n",
       "    }\n",
       "</style>\n",
       "<table border=\"1\" class=\"dataframe\">\n",
       "  <thead>\n",
       "    <tr style=\"text-align: right;\">\n",
       "      <th></th>\n",
       "      <th>TotalCoinsMined</th>\n",
       "      <th>TotalCoinSupply</th>\n",
       "      <th>Algorithm_536</th>\n",
       "      <th>Algorithm_Argon2d</th>\n",
       "      <th>Algorithm_BLAKE256</th>\n",
       "      <th>Algorithm_Blake</th>\n",
       "      <th>Algorithm_Blake2S</th>\n",
       "      <th>Algorithm_Blake2b</th>\n",
       "      <th>Algorithm_C11</th>\n",
       "      <th>Algorithm_Cloverhash</th>\n",
       "      <th>...</th>\n",
       "      <th>ProofType_PoW/PoS</th>\n",
       "      <th>ProofType_PoW/PoS</th>\n",
       "      <th>ProofType_PoW/PoW</th>\n",
       "      <th>ProofType_PoW/nPoS</th>\n",
       "      <th>ProofType_Pos</th>\n",
       "      <th>ProofType_Proof of Authority</th>\n",
       "      <th>ProofType_Proof of Trust</th>\n",
       "      <th>ProofType_TPoS</th>\n",
       "      <th>ProofType_Zero-Knowledge Proof</th>\n",
       "      <th>ProofType_dPoW/PoW</th>\n",
       "    </tr>\n",
       "  </thead>\n",
       "  <tbody>\n",
       "    <tr>\n",
       "      <th>0</th>\n",
       "      <td>4.199995e+01</td>\n",
       "      <td>4.200000e+01</td>\n",
       "      <td>0</td>\n",
       "      <td>0</td>\n",
       "      <td>0</td>\n",
       "      <td>0</td>\n",
       "      <td>0</td>\n",
       "      <td>0</td>\n",
       "      <td>0</td>\n",
       "      <td>0</td>\n",
       "      <td>...</td>\n",
       "      <td>1</td>\n",
       "      <td>0</td>\n",
       "      <td>0</td>\n",
       "      <td>0</td>\n",
       "      <td>0</td>\n",
       "      <td>0</td>\n",
       "      <td>0</td>\n",
       "      <td>0</td>\n",
       "      <td>0</td>\n",
       "      <td>0</td>\n",
       "    </tr>\n",
       "    <tr>\n",
       "      <th>2</th>\n",
       "      <td>1.055185e+09</td>\n",
       "      <td>5.320000e+08</td>\n",
       "      <td>0</td>\n",
       "      <td>0</td>\n",
       "      <td>0</td>\n",
       "      <td>0</td>\n",
       "      <td>0</td>\n",
       "      <td>0</td>\n",
       "      <td>0</td>\n",
       "      <td>0</td>\n",
       "      <td>...</td>\n",
       "      <td>1</td>\n",
       "      <td>0</td>\n",
       "      <td>0</td>\n",
       "      <td>0</td>\n",
       "      <td>0</td>\n",
       "      <td>0</td>\n",
       "      <td>0</td>\n",
       "      <td>0</td>\n",
       "      <td>0</td>\n",
       "      <td>0</td>\n",
       "    </tr>\n",
       "    <tr>\n",
       "      <th>5</th>\n",
       "      <td>2.927942e+10</td>\n",
       "      <td>3.141593e+11</td>\n",
       "      <td>0</td>\n",
       "      <td>0</td>\n",
       "      <td>0</td>\n",
       "      <td>0</td>\n",
       "      <td>0</td>\n",
       "      <td>0</td>\n",
       "      <td>0</td>\n",
       "      <td>0</td>\n",
       "      <td>...</td>\n",
       "      <td>1</td>\n",
       "      <td>0</td>\n",
       "      <td>0</td>\n",
       "      <td>0</td>\n",
       "      <td>0</td>\n",
       "      <td>0</td>\n",
       "      <td>0</td>\n",
       "      <td>0</td>\n",
       "      <td>0</td>\n",
       "      <td>0</td>\n",
       "    </tr>\n",
       "    <tr>\n",
       "      <th>7</th>\n",
       "      <td>1.792718e+07</td>\n",
       "      <td>2.100000e+07</td>\n",
       "      <td>0</td>\n",
       "      <td>0</td>\n",
       "      <td>0</td>\n",
       "      <td>0</td>\n",
       "      <td>0</td>\n",
       "      <td>0</td>\n",
       "      <td>0</td>\n",
       "      <td>0</td>\n",
       "      <td>...</td>\n",
       "      <td>0</td>\n",
       "      <td>0</td>\n",
       "      <td>0</td>\n",
       "      <td>0</td>\n",
       "      <td>0</td>\n",
       "      <td>0</td>\n",
       "      <td>0</td>\n",
       "      <td>0</td>\n",
       "      <td>0</td>\n",
       "      <td>0</td>\n",
       "    </tr>\n",
       "    <tr>\n",
       "      <th>8</th>\n",
       "      <td>1.076842e+08</td>\n",
       "      <td>0.000000e+00</td>\n",
       "      <td>0</td>\n",
       "      <td>0</td>\n",
       "      <td>0</td>\n",
       "      <td>0</td>\n",
       "      <td>0</td>\n",
       "      <td>0</td>\n",
       "      <td>0</td>\n",
       "      <td>0</td>\n",
       "      <td>...</td>\n",
       "      <td>0</td>\n",
       "      <td>0</td>\n",
       "      <td>0</td>\n",
       "      <td>0</td>\n",
       "      <td>0</td>\n",
       "      <td>0</td>\n",
       "      <td>0</td>\n",
       "      <td>0</td>\n",
       "      <td>0</td>\n",
       "      <td>0</td>\n",
       "    </tr>\n",
       "  </tbody>\n",
       "</table>\n",
       "<p>5 rows × 96 columns</p>\n",
       "</div>"
      ],
      "text/plain": [
       "   TotalCoinsMined  TotalCoinSupply  Algorithm_536  Algorithm_Argon2d  \\\n",
       "0     4.199995e+01     4.200000e+01              0                  0   \n",
       "2     1.055185e+09     5.320000e+08              0                  0   \n",
       "5     2.927942e+10     3.141593e+11              0                  0   \n",
       "7     1.792718e+07     2.100000e+07              0                  0   \n",
       "8     1.076842e+08     0.000000e+00              0                  0   \n",
       "\n",
       "   Algorithm_BLAKE256  Algorithm_Blake  Algorithm_Blake2S  Algorithm_Blake2b  \\\n",
       "0                   0                0                  0                  0   \n",
       "2                   0                0                  0                  0   \n",
       "5                   0                0                  0                  0   \n",
       "7                   0                0                  0                  0   \n",
       "8                   0                0                  0                  0   \n",
       "\n",
       "   Algorithm_C11  Algorithm_Cloverhash  ...  ProofType_PoW/PoS  \\\n",
       "0              0                     0  ...                  1   \n",
       "2              0                     0  ...                  1   \n",
       "5              0                     0  ...                  1   \n",
       "7              0                     0  ...                  0   \n",
       "8              0                     0  ...                  0   \n",
       "\n",
       "   ProofType_PoW/PoS   ProofType_PoW/PoW  ProofType_PoW/nPoS  ProofType_Pos  \\\n",
       "0                   0                  0                   0              0   \n",
       "2                   0                  0                   0              0   \n",
       "5                   0                  0                   0              0   \n",
       "7                   0                  0                   0              0   \n",
       "8                   0                  0                   0              0   \n",
       "\n",
       "   ProofType_Proof of Authority  ProofType_Proof of Trust  ProofType_TPoS  \\\n",
       "0                             0                         0               0   \n",
       "2                             0                         0               0   \n",
       "5                             0                         0               0   \n",
       "7                             0                         0               0   \n",
       "8                             0                         0               0   \n",
       "\n",
       "   ProofType_Zero-Knowledge Proof  ProofType_dPoW/PoW  \n",
       "0                               0                   0  \n",
       "2                               0                   0  \n",
       "5                               0                   0  \n",
       "7                               0                   0  \n",
       "8                               0                   0  \n",
       "\n",
       "[5 rows x 96 columns]"
      ]
     },
     "execution_count": 12,
     "metadata": {},
     "output_type": "execute_result"
    }
   ],
   "source": [
    "#Converting categorical data into numerical data\n",
    "df_numerical = pd.get_dummies(new_crypto_df, drop_first=True)\n",
    "df_numerical.head()"
   ]
  },
  {
   "cell_type": "code",
   "execution_count": 13,
   "id": "c18938fa",
   "metadata": {},
   "outputs": [
    {
     "data": {
      "text/plain": [
       "(532, 96)"
      ]
     },
     "execution_count": 13,
     "metadata": {},
     "output_type": "execute_result"
    }
   ],
   "source": [
    "#Checking how one hot encoding affected the number of columns\n",
    "df_numerical.shape\n",
    "#new_crypto_df['Algorithm'].nunique()\n",
    "#new_crypto_df['ProofType'].nunique()"
   ]
  },
  {
   "cell_type": "markdown",
   "id": "832da473",
   "metadata": {},
   "source": [
    "<p>Number of columns increased by 92. 2 initally numerical columns (TotalCoinsMined and TotalCoinSupply) remained the same. For the categorical data, new columns have been created. 70 columns for the Algoritm and 24 for Prooftype.</p>"
   ]
  },
  {
   "cell_type": "markdown",
   "id": "224c0ff1",
   "metadata": {},
   "source": [
    "<h3>Standard Scaler</h3>"
   ]
  },
  {
   "cell_type": "code",
   "execution_count": 14,
   "id": "57e40556",
   "metadata": {},
   "outputs": [],
   "source": [
    "#Scaling the data\n",
    "scaler = StandardScaler()\n",
    "scaled_data = scaler.fit_transform(df_numerical)"
   ]
  },
  {
   "cell_type": "markdown",
   "id": "f42f5a00",
   "metadata": {},
   "source": [
    "<h1>Dimensionality Reduction</h1>"
   ]
  },
  {
   "cell_type": "markdown",
   "id": "a2d52721",
   "metadata": {},
   "source": [
    "<h3>PCA Model</h3>"
   ]
  },
  {
   "cell_type": "code",
   "execution_count": 15,
   "id": "4f2dea99",
   "metadata": {},
   "outputs": [],
   "source": [
    "#Initialising PCA model\n",
    "pca = PCA(n_components=0.90)\n",
    "crypto_pca = pca.fit_transform(scaled_data)"
   ]
  },
  {
   "cell_type": "code",
   "execution_count": 16,
   "id": "e4def539",
   "metadata": {},
   "outputs": [
    {
     "data": {
      "text/plain": [
       "(532, 74)"
      ]
     },
     "execution_count": 16,
     "metadata": {},
     "output_type": "execute_result"
    }
   ],
   "source": [
    "#Transforming PCA data to a DataFrame\n",
    "df_crypto_pca = pd.DataFrame(\n",
    "    data=crypto_pca\n",
    ")\n",
    "df_crypto_pca.shape"
   ]
  },
  {
   "cell_type": "markdown",
   "id": "865d34fc",
   "metadata": {},
   "source": [
    "<p>The PCA Model succesfully transformed our large set of variables into a smaller one while still preserving 90% of the explained variance. The number of columns reduced from 96 to 74<p>"
   ]
  },
  {
   "cell_type": "markdown",
   "id": "ed193b3f",
   "metadata": {},
   "source": [
    "<h3>t-SNE Model</h3>"
   ]
  },
  {
   "cell_type": "code",
   "execution_count": 17,
   "id": "4b3c734d",
   "metadata": {},
   "outputs": [],
   "source": [
    "#Initialising t-SNE model\n",
    "tsne = TSNE(learning_rate=50)"
   ]
  },
  {
   "cell_type": "code",
   "execution_count": 18,
   "id": "c86c0bc9",
   "metadata": {},
   "outputs": [],
   "source": [
    "tsne_features = tsne.fit_transform(df_crypto_pca)"
   ]
  },
  {
   "cell_type": "code",
   "execution_count": 19,
   "id": "494a231b",
   "metadata": {},
   "outputs": [
    {
     "data": {
      "text/plain": [
       "(532, 2)"
      ]
     },
     "execution_count": 19,
     "metadata": {},
     "output_type": "execute_result"
    }
   ],
   "source": [
    "tsne_features.shape"
   ]
  },
  {
   "cell_type": "code",
   "execution_count": 20,
   "id": "2c68bebb",
   "metadata": {},
   "outputs": [],
   "source": [
    "# Preparing to plot the dataset\n",
    "\n",
    "# The first column of transformed features\n",
    "df_crypto_pca['x'] = tsne_features[:,0]\n",
    "\n",
    "# The second column of transformed features\n",
    "df_crypto_pca['y'] = tsne_features[:,1]"
   ]
  },
  {
   "cell_type": "code",
   "execution_count": 22,
   "id": "89e202ab",
   "metadata": {},
   "outputs": [
    {
     "data": {
      "image/png": "[encoded data removed]",
      "text/plain": [
       "<Figure size 432x288 with 1 Axes>"
      ]
     },
     "metadata": {
      "needs_background": "light"
     },
     "output_type": "display_data"
    }
   ],
   "source": [
    "#Visualising the clusters\n",
    "plt.scatter(df_crypto_pca['x'], df_crypto_pca['y'])\n",
    "plt.show()"
   ]
  },
  {
   "cell_type": "markdown",
   "id": "b5c241a1",
   "metadata": {},
   "source": [
    "<h1>Running K-Means</h1>"
   ]
  },
  {
   "cell_type": "code",
   "execution_count": 23,
   "id": "1e809ade",
   "metadata": {},
   "outputs": [
    {
     "name": "stderr",
     "output_type": "stream",
     "text": [
      "C:\\Users\\domin\\anaconda3\\lib\\site-packages\\sklearn\\cluster\\_kmeans.py:881: UserWarning: KMeans is known to have a memory leak on Windows with MKL, when there are less chunks than available threads. You can avoid it by setting the environment variable OMP_NUM_THREADS=3.\n",
      "  warnings.warn(\n"
     ]
    },
    {
     "data": {
      "image/png": "[encoded data removed]",
      "text/plain": [
       "<Figure size 432x288 with 1 Axes>"
      ]
     },
     "metadata": {
      "needs_background": "light"
     },
     "output_type": "display_data"
    }
   ],
   "source": [
    "# Finding the best value for k\n",
    "inertia = []\n",
    "k = list(range(1, 11))\n",
    "\n",
    "# Calculate the inertia for the range of k values\n",
    "for i in k:\n",
    "    km = KMeans(n_clusters=i, random_state=0)\n",
    "    km.fit(tsne_features)\n",
    "    inertia.append(km.inertia_)\n",
    "\n",
    "# Creating the Elbow Curve\n",
    "elbow_data = {\"k\": k, \"inertia\": inertia}\n",
    "df_elbow = pd.DataFrame(elbow_data)\n",
    "\n",
    "plt.plot(df_elbow['k'], df_elbow['inertia'])\n",
    "plt.xticks(list(range(11)))\n",
    "plt.title('Elbow Curve')\n",
    "plt.xlabel('Number of clusters')\n",
    "plt.ylabel('Inertia')\n",
    "plt.show()"
   ]
  },
  {
   "cell_type": "code",
   "execution_count": 24,
   "id": "8daac95c",
   "metadata": {},
   "outputs": [
    {
     "data": {
      "text/html": [
       "<div>\n",
       "<style scoped>\n",
       "    .dataframe tbody tr th:only-of-type {\n",
       "        vertical-align: middle;\n",
       "    }\n",
       "\n",
       "    .dataframe tbody tr th {\n",
       "        vertical-align: top;\n",
       "    }\n",
       "\n",
       "    .dataframe thead th {\n",
       "        text-align: right;\n",
       "    }\n",
       "</style>\n",
       "<table border=\"1\" class=\"dataframe\">\n",
       "  <thead>\n",
       "    <tr style=\"text-align: right;\">\n",
       "      <th></th>\n",
       "      <th>0</th>\n",
       "      <th>1</th>\n",
       "    </tr>\n",
       "  </thead>\n",
       "  <tbody>\n",
       "    <tr>\n",
       "      <th>0</th>\n",
       "      <td>-9.617999</td>\n",
       "      <td>-13.341435</td>\n",
       "    </tr>\n",
       "    <tr>\n",
       "      <th>1</th>\n",
       "      <td>-2.879190</td>\n",
       "      <td>-15.446612</td>\n",
       "    </tr>\n",
       "    <tr>\n",
       "      <th>2</th>\n",
       "      <td>-14.842136</td>\n",
       "      <td>-24.075947</td>\n",
       "    </tr>\n",
       "    <tr>\n",
       "      <th>3</th>\n",
       "      <td>-22.366123</td>\n",
       "      <td>14.121619</td>\n",
       "    </tr>\n",
       "    <tr>\n",
       "      <th>4</th>\n",
       "      <td>14.392459</td>\n",
       "      <td>11.248315</td>\n",
       "    </tr>\n",
       "  </tbody>\n",
       "</table>\n",
       "</div>"
      ],
      "text/plain": [
       "           0          1\n",
       "0  -9.617999 -13.341435\n",
       "1  -2.879190 -15.446612\n",
       "2 -14.842136 -24.075947\n",
       "3 -22.366123  14.121619\n",
       "4  14.392459  11.248315"
      ]
     },
     "execution_count": 24,
     "metadata": {},
     "output_type": "execute_result"
    }
   ],
   "source": [
    "df_tsne = pd.DataFrame(\n",
    "    data=tsne_features\n",
    ")\n",
    "df_tsne.head()"
   ]
  },
  {
   "cell_type": "code",
   "execution_count": 25,
   "id": "5f9994e6",
   "metadata": {},
   "outputs": [
    {
     "data": {
      "text/html": [
       "<div>\n",
       "<style scoped>\n",
       "    .dataframe tbody tr th:only-of-type {\n",
       "        vertical-align: middle;\n",
       "    }\n",
       "\n",
       "    .dataframe tbody tr th {\n",
       "        vertical-align: top;\n",
       "    }\n",
       "\n",
       "    .dataframe thead th {\n",
       "        text-align: right;\n",
       "    }\n",
       "</style>\n",
       "<table border=\"1\" class=\"dataframe\">\n",
       "  <thead>\n",
       "    <tr style=\"text-align: right;\">\n",
       "      <th></th>\n",
       "      <th>0</th>\n",
       "      <th>1</th>\n",
       "      <th>class</th>\n",
       "    </tr>\n",
       "  </thead>\n",
       "  <tbody>\n",
       "    <tr>\n",
       "      <th>0</th>\n",
       "      <td>-9.617999</td>\n",
       "      <td>-13.341435</td>\n",
       "      <td>2</td>\n",
       "    </tr>\n",
       "    <tr>\n",
       "      <th>1</th>\n",
       "      <td>-2.879190</td>\n",
       "      <td>-15.446612</td>\n",
       "      <td>2</td>\n",
       "    </tr>\n",
       "    <tr>\n",
       "      <th>2</th>\n",
       "      <td>-14.842136</td>\n",
       "      <td>-24.075947</td>\n",
       "      <td>2</td>\n",
       "    </tr>\n",
       "    <tr>\n",
       "      <th>3</th>\n",
       "      <td>-22.366123</td>\n",
       "      <td>14.121619</td>\n",
       "      <td>0</td>\n",
       "    </tr>\n",
       "    <tr>\n",
       "      <th>4</th>\n",
       "      <td>14.392459</td>\n",
       "      <td>11.248315</td>\n",
       "      <td>3</td>\n",
       "    </tr>\n",
       "  </tbody>\n",
       "</table>\n",
       "</div>"
      ],
      "text/plain": [
       "           0          1  class\n",
       "0  -9.617999 -13.341435      2\n",
       "1  -2.879190 -15.446612      2\n",
       "2 -14.842136 -24.075947      2\n",
       "3 -22.366123  14.121619      0\n",
       "4  14.392459  11.248315      3"
      ]
     },
     "execution_count": 25,
     "metadata": {},
     "output_type": "execute_result"
    }
   ],
   "source": [
    "#Predicting clusters with k=4\n",
    "model = KMeans(n_clusters=4, random_state=1)\n",
    "model.fit(df_tsne)\n",
    "# Predict clusters\n",
    "predictions = model.predict(df_tsne)\n",
    "df_tsne[\"class\"] = model.labels_\n",
    "df_tsne.head()"
   ]
  },
  {
   "cell_type": "code",
   "execution_count": 26,
   "id": "56eb0668",
   "metadata": {},
   "outputs": [
    {
     "data": {
      "image/png": "[encoded data removed]",
      "text/plain": [
       "<Figure size 432x288 with 1 Axes>"
      ]
     },
     "metadata": {
      "needs_background": "light"
     },
     "output_type": "display_data"
    }
   ],
   "source": [
    "plt.scatter(df_tsne[0], df_tsne[1], c=df_tsne['class'])\n",
    "plt.xlabel('Principal Component 1')\n",
    "plt.ylabel('Principal Component 2')\n",
    "plt.show()"
   ]
  },
  {
   "cell_type": "markdown",
   "id": "b01a84a3",
   "metadata": {},
   "source": [
    "<h1>Conclusion</h1>"
   ]
  },
  {
   "cell_type": "markdown",
   "id": "3a8aa564",
   "metadata": {},
   "source": [
    "<p>Initial dataset contained 1252 cryptocurrencies. Out of those 532 met all the criteria and were analysed further. The elbow curve, where x axis represents the k number of clusters between 1 through 10 and y axis is an interia - objective function, allowed to identify the desired number of clusters as 4. K-Means Model has been run with the k=4 and the predicted clusters have been visually presented above.</p>"
   ]
  }
 ],
 "metadata": {
  "kernelspec": {
   "display_name": "Python 3",
   "language": "python",
   "name": "python3"
  },
  "language_info": {
   "codemirror_mode": {
    "name": "ipython",
    "version": 3
   },
   "file_extension": ".py",
   "mimetype": "text/x-python",
   "name": "python",
   "nbconvert_exporter": "python",
   "pygments_lexer": "ipython3",
   "version": "3.8.8"
  }
 },
 "nbformat": 4,
 "nbformat_minor": 5
}
