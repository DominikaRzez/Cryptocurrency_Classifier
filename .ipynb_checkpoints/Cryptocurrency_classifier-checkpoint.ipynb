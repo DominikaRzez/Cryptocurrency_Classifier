{
 "cells": [
  {
   "cell_type": "code",
   "execution_count": null,
   "id": "fbe14db3",
   "metadata": {},
   "outputs": [],
   "source": [
    "import pandas as pd\n",
    "from sklearn.preprocessing import StandardScaler\n",
    "from sklearn.decomposition import PCA\n",
    "from sklearn.manifold import TSNE\n",
    "import matplotlib.pyplot as plt\n",
    "from sklearn.cluster import KMeans"
   ]
  },
  {
   "cell_type": "code",
   "execution_count": null,
   "id": "fb2cf4bb",
   "metadata": {},
   "outputs": [],
   "source": [
    "#Reading csv file\n",
    "df = pd.read_csv(\"Resources/crypto_data.csv\")\n",
    "df.head()"
   ]
  },
  {
   "cell_type": "code",
   "execution_count": null,
   "id": "cc2bcf24",
   "metadata": {},
   "outputs": [],
   "source": [
    "df.dtypes"
   ]
  },
  {
   "cell_type": "markdown",
   "id": "ac673457",
   "metadata": {},
   "source": [
    "<h1>Data Preparation</h1>"
   ]
  },
  {
   "cell_type": "code",
   "execution_count": null,
   "id": "2df1987d",
   "metadata": {},
   "outputs": [],
   "source": [
    "#Selecting only trading cryptocurrencies\n",
    "trading = df.loc[df['IsTrading'] == True]\n",
    "#Dropping IsTrading column\n",
    "trading = trading.drop(columns='IsTrading')\n",
    "trading.shape"
   ]
  },
  {
   "cell_type": "code",
   "execution_count": null,
   "id": "c6f9f80e",
   "metadata": {},
   "outputs": [],
   "source": [
    "#Removing all rows that have at least one null value\n",
    "trading = trading.dropna()\n",
    "trading.shape"
   ]
  },
  {
   "cell_type": "code",
   "execution_count": null,
   "id": "ce8668fb",
   "metadata": {},
   "outputs": [],
   "source": [
    "#Filtering for cryptocurrencies that have been mined\n",
    "mined = trading.loc[df['TotalCoinsMined'] > 0]\n",
    "mined.shape"
   ]
  },
  {
   "cell_type": "code",
   "execution_count": null,
   "id": "7923f2cf",
   "metadata": {},
   "outputs": [],
   "source": [
    "#deleting the CoinName from the original dataframe.\n",
    "new_crypto_df = mined.drop(columns='CoinName')\n",
    "new_crypto_df.head()"
   ]
  },
  {
   "cell_type": "code",
   "execution_count": null,
   "id": "1fccf5ab",
   "metadata": {},
   "outputs": [],
   "source": [
    "new_crypto_df.shape"
   ]
  },
  {
   "cell_type": "markdown",
   "id": "88e67021",
   "metadata": {},
   "source": [
    "<h3>One-Hot-Encoding</h3>"
   ]
  },
  {
   "cell_type": "code",
   "execution_count": null,
   "id": "70992dd6",
   "metadata": {},
   "outputs": [],
   "source": [
    "#Converting categorical data into numerical data\n",
    "df_numerical = pd.get_dummies(new_crypto_df, drop_first=True)\n",
    "df_numerical.head()"
   ]
  },
  {
   "cell_type": "code",
   "execution_count": null,
   "id": "c18938fa",
   "metadata": {},
   "outputs": [],
   "source": [
    "df_numerical.shape"
   ]
  },
  {
   "cell_type": "markdown",
   "id": "224c0ff1",
   "metadata": {},
   "source": [
    "<h3>Standard Scaler</h3>"
   ]
  },
  {
   "cell_type": "code",
   "execution_count": null,
   "id": "57e40556",
   "metadata": {},
   "outputs": [],
   "source": [
    "#Scaling the data\n",
    "scaler = StandardScaler()\n",
    "scaled_data = scaler.fit_transform(df_numerical)"
   ]
  },
  {
   "cell_type": "markdown",
   "id": "f42f5a00",
   "metadata": {},
   "source": [
    "<h1>Dimensionality Reduction</h1>"
   ]
  },
  {
   "cell_type": "markdown",
   "id": "a2d52721",
   "metadata": {},
   "source": [
    "<h3>PCA Model</h3>"
   ]
  },
  {
   "cell_type": "code",
   "execution_count": null,
   "id": "4f2dea99",
   "metadata": {},
   "outputs": [],
   "source": [
    "#Initialising PCA model\n",
    "pca = PCA(n_components=0.90)\n",
    "crypto_pca = pca.fit_transform(scaled_data)"
   ]
  },
  {
   "cell_type": "code",
   "execution_count": null,
   "id": "e4def539",
   "metadata": {},
   "outputs": [],
   "source": [
    "#Transforming PCA data to a DataFrame\n",
    "df_crypto_pca = pd.DataFrame(\n",
    "    data=crypto_pca\n",
    ")\n",
    "df_crypto_pca.shape"
   ]
  },
  {
   "cell_type": "markdown",
   "id": "ed193b3f",
   "metadata": {},
   "source": [
    "<h3>t-SNE Model</h3>"
   ]
  },
  {
   "cell_type": "code",
   "execution_count": null,
   "id": "4b3c734d",
   "metadata": {},
   "outputs": [],
   "source": [
    "#Initialising t-SNE model\n",
    "tsne = TSNE(learning_rate=50)"
   ]
  },
  {
   "cell_type": "code",
   "execution_count": null,
   "id": "c86c0bc9",
   "metadata": {},
   "outputs": [],
   "source": [
    "tsne_features = tsne.fit_transform(df_crypto_pca)"
   ]
  },
  {
   "cell_type": "code",
   "execution_count": null,
   "id": "494a231b",
   "metadata": {},
   "outputs": [],
   "source": [
    "tsne_features.shape"
   ]
  },
  {
   "cell_type": "code",
   "execution_count": null,
   "id": "2c68bebb",
   "metadata": {},
   "outputs": [],
   "source": [
    "# Preparing to plot the dataset\n",
    "\n",
    "# The first column of transformed features\n",
    "df_crypto_pca['x'] = tsne_features[:,0]\n",
    "\n",
    "# The second column of transformed features\n",
    "df_crypto_pca['y'] = tsne_features[:,1]"
   ]
  },
  {
   "cell_type": "code",
   "execution_count": null,
   "id": "89e202ab",
   "metadata": {},
   "outputs": [],
   "source": [
    "#Visualising the clusters\n",
    "plt.scatter(df_crypto_pca['x'], df_crypto_pca['y'])\n",
    "plt.show()"
   ]
  },
  {
   "cell_type": "markdown",
   "id": "b5c241a1",
   "metadata": {},
   "source": [
    "<h1>Running K-Means</h1>"
   ]
  },
  {
   "cell_type": "code",
   "execution_count": null,
   "id": "1e809ade",
   "metadata": {},
   "outputs": [],
   "source": [
    "# Finding the best value for k\n",
    "inertia = []\n",
    "k = list(range(1, 11))\n",
    "\n",
    "# Calculate the inertia for the range of k values\n",
    "for i in k:\n",
    "    km = KMeans(n_clusters=i, random_state=0)\n",
    "    km.fit(tsne_features)\n",
    "    inertia.append(km.inertia_)\n",
    "\n",
    "# Creating the Elbow Curve\n",
    "elbow_data = {\"k\": k, \"inertia\": inertia}\n",
    "df_elbow = pd.DataFrame(elbow_data)\n",
    "\n",
    "plt.plot(df_elbow['k'], df_elbow['inertia'])\n",
    "plt.xticks(list(range(11)))\n",
    "plt.title('Elbow Curve')\n",
    "plt.xlabel('Number of clusters')\n",
    "plt.ylabel('Inertia')\n",
    "plt.show()"
   ]
  },
  {
   "cell_type": "code",
   "execution_count": null,
   "id": "8daac95c",
   "metadata": {},
   "outputs": [],
   "source": [
    "df_tsne = pd.DataFrame(\n",
    "    data=tsne_features\n",
    ")\n",
    "df_tsne.head()"
   ]
  },
  {
   "cell_type": "code",
   "execution_count": null,
   "id": "5f9994e6",
   "metadata": {},
   "outputs": [],
   "source": [
    "#Predicting clusters with k=3\n",
    "model = KMeans(n_clusters=3, random_state=1)\n",
    "model.fit(df_tsne)\n",
    "# Predict clusters\n",
    "predictions = model.predict(df_tsne)\n",
    "df_tsne[\"class\"] = model.labels_\n",
    "df_tsne.head()"
   ]
  },
  {
   "cell_type": "code",
   "execution_count": null,
   "id": "56eb0668",
   "metadata": {},
   "outputs": [],
   "source": [
    "plt.scatter(df_tsne[0], df_tsne[1], c=df_tsne['class'])\n",
    "plt.xlabel('Principal Component 1')\n",
    "plt.ylabel('Principal Component 2')\n",
    "plt.show()"
   ]
  },
  {
   "cell_type": "markdown",
   "id": "b01a84a3",
   "metadata": {},
   "source": [
    "<h1>Conclusion and Recomendations</h1>"
   ]
  },
  {
   "cell_type": "markdown",
   "id": "3a8aa564",
   "metadata": {},
   "source": [
    "<p>summary</p>"
   ]
  },
  {
   "cell_type": "markdown",
   "id": "29be3ba2",
   "metadata": {},
   "source": [
    "<h1>Scaling only on the numerical data, not the one transformed from categorical</h1>"
   ]
  },
  {
   "cell_type": "code",
   "execution_count": null,
   "id": "4f931069",
   "metadata": {},
   "outputs": [],
   "source": [
    "#Scaling the data\n",
    "scaler = StandardScaler()\n",
    "scaled_data = scaler.fit_transform(df_numerical[['TotalCoinsMined']])"
   ]
  },
  {
   "cell_type": "code",
   "execution_count": null,
   "id": "245d7791",
   "metadata": {},
   "outputs": [],
   "source": [
    " # A list of the columns from the original DataFrame\n",
    "df_numerical.columns"
   ]
  },
  {
   "cell_type": "code",
   "execution_count": null,
   "id": "67204e80",
   "metadata": {},
   "outputs": [],
   "source": [
    "# Creating a DataFrame with the transformed data\n",
    "new_crypto_df = pd.DataFrame(scaled_data, columns=df_numerical.columns[:1])\n",
    "\n",
    "missing_cols = set(df_numerical.columns ) - set(new_crypto_df.columns )\n",
    "# Add a missing column in test set with default value equal to 0\n",
    "for c in missing_cols:\n",
    "    new_crypto_df[c] = 0\n",
    "\n",
    "new_crypto_df = new_crypto_df[df_numerical.columns]\n",
    "new_crypto_df.head()"
   ]
  },
  {
   "cell_type": "code",
   "execution_count": null,
   "id": "98c9b1ee",
   "metadata": {},
   "outputs": [],
   "source": [
    "pca = PCA(n_components=0.90)\n",
    "crypto_pca = pca.fit_transform(new_crypto_df)"
   ]
  },
  {
   "cell_type": "code",
   "execution_count": null,
   "id": "28ce4fdc",
   "metadata": {},
   "outputs": [],
   "source": [
    " # Transform PCA data to a DataFrame\n",
    "df_crypto_pca = pd.DataFrame(\n",
    "    data=crypto_pca\n",
    ")\n",
    "df_crypto_pca.head()"
   ]
  }
 ],
 "metadata": {
  "kernelspec": {
   "display_name": "Python 3",
   "language": "python",
   "name": "python3"
  },
  "language_info": {
   "codemirror_mode": {
    "name": "ipython",
    "version": 3
   },
   "file_extension": ".py",
   "mimetype": "text/x-python",
   "name": "python",
   "nbconvert_exporter": "python",
   "pygments_lexer": "ipython3",
   "version": "3.8.8"
  }
 },
 "nbformat": 4,
 "nbformat_minor": 5
}
